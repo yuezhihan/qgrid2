{
 "cells": [
  {
   "cell_type": "code",
   "execution_count": 3,
   "id": "aeb88d9f",
   "metadata": {
    "tags": []
   },
   "outputs": [],
   "source": [
    "import pandas as pd\n",
    "from qgridnext import show_grid"
   ]
  },
  {
   "cell_type": "code",
   "execution_count": 4,
   "id": "21a7f456",
   "metadata": {
    "tags": []
   },
   "outputs": [],
   "source": [
    "df = pd.read_csv('example.csv', parse_dates=['date'], index_col=0)\n",
    "# df = df.astype({'col_str': 'str[pyarrow]', 'col_float': 'float[pyarrow]'})"
   ]
  },
  {
   "cell_type": "code",
   "execution_count": 5,
   "id": "7b00bde1",
   "metadata": {
    "tags": []
   },
   "outputs": [
    {
     "data": {
      "application/vnd.jupyter.widget-view+json": {
       "model_id": "cbd5b33e23f148ea9dcde11f12a30149",
       "version_major": 2,
       "version_minor": 0
      },
      "text/plain": [
       "QgridWidget(grid_options={'fullWidthRows': True, 'syncColumnCellResize': True, 'forceFitColumns': True, 'defau…"
      ]
     },
     "execution_count": 5,
     "metadata": {},
     "output_type": "execute_result"
    }
   ],
   "source": [
    "show_grid(df)"
   ]
  },
  {
   "cell_type": "code",
   "execution_count": null,
   "id": "eece4645-4537-4344-9d01-a465823f167a",
   "metadata": {},
   "outputs": [],
   "source": []
  }
 ],
 "metadata": {
  "kernelspec": {
   "display_name": "qgridnext-dev",
   "language": "python",
   "name": "python3"
  },
  "language_info": {
   "codemirror_mode": {
    "name": "ipython",
    "version": 3
   },
   "file_extension": ".py",
   "mimetype": "text/x-python",
   "name": "python",
   "nbconvert_exporter": "python",
   "pygments_lexer": "ipython3",
   "version": "3.11.9"
  }
 },
 "nbformat": 4,
 "nbformat_minor": 5
}
